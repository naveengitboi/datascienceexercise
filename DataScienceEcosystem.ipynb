{
 "cells": [
  {
   "cell_type": "markdown",
   "id": "6aeec66d-5b69-4529-a3a7-1e6bcdeb9e5f",
   "metadata": {},
   "source": [
    "# Data Science Tools and Ecosystem"
   ]
  },
  {
   "cell_type": "markdown",
   "id": "46be412b-cbdf-4dcc-8dfa-c2a896362014",
   "metadata": {},
   "source": [
    "## In this notebook, Data Science Tools and Ecosystem are summarized."
   ]
  },
  {
   "cell_type": "markdown",
   "id": "aa4e73dd-8618-45b7-a751-c284c0d0da71",
   "metadata": {},
   "source": [
    "### Some of the popular languages that Data Scientists use are:\n",
    "1. Python\n",
    "2. R\n",
    "3. Spark \n",
    "4. SQL\n",
    "5. Julia\n",
    "6. Go"
   ]
  },
  {
   "cell_type": "markdown",
   "id": "b9e0fd89-f278-4e1f-aa8d-ea0a36e600a6",
   "metadata": {},
   "source": [
    "### Some of the commonly used libraries used by Data Scientists include:\n",
    "1. Numpy\n",
    "2. Pandas\n",
    "3. Matplotlib\n",
    "4. SKlearn\n",
    "5. Tensorflow\n",
    "6. Pytorch\n",
    "7. Keras\n",
    "8. ggplot"
   ]
  },
  {
   "cell_type": "markdown",
   "id": "824949d8-b941-4fa8-877b-55cf82f45798",
   "metadata": {},
   "source": [
    "| Datascience Tools |\n",
    "| :- |\n",
    "| Jupyter Notebook |\n",
    "| VS Code |\n",
    "| Github |"
   ]
  },
  {
   "cell_type": "markdown",
   "id": "c6e12014-b044-421a-92c2-be5f02523586",
   "metadata": {},
   "source": [
    "### Below are a few examples of evaluating arithmetic expressions in Python\n",
    "$ 5 + 5 = 10 $\n",
    "<br>\n",
    "$ 10 - 7 = 3 $\n",
    "<br>\n",
    "$ 10 * 7 = 70 $\n",
    "<br>\n",
    "$ 10 / 5 = 2 $\n",
    "<br>\n",
    "$ 10 \\% 7 = 3 $"
   ]
  },
  {
   "cell_type": "code",
   "execution_count": 1,
   "id": "fb36318d-7685-4d06-afd2-e5d9e335c352",
   "metadata": {
    "tags": []
   },
   "outputs": [
    {
     "name": "stdout",
     "output_type": "stream",
     "text": [
      "17\n"
     ]
    }
   ],
   "source": [
    "#This a simple arithmetic expression to mutiply then add integers\n",
    "exp = (3*4) + 5\n",
    "print(exp)"
   ]
  },
  {
   "cell_type": "code",
   "execution_count": 2,
   "id": "64ed9477-057c-4c4f-9187-94007a2243f3",
   "metadata": {
    "tags": []
   },
   "outputs": [
    {
     "name": "stdout",
     "output_type": "stream",
     "text": [
      "3.3333333333333335\n"
     ]
    }
   ],
   "source": [
    "min = 200\n",
    "hrs = 200 / 60\n",
    "print(hrs)"
   ]
  },
  {
   "cell_type": "markdown",
   "id": "9df623d4-33fa-4663-a350-ebfba2d3fa0f",
   "metadata": {},
   "source": [
    "# **Objectives** :\n",
    "* Listing the most popular Datasciene Languages\n",
    "* Listing the 3 open source tools\n",
    "* listing the datascience libraries\n",
    "* Arithmetic Expressions in Jupyter MarkdownCell"
   ]
  },
  {
   "cell_type": "markdown",
   "id": "6787b8bd-5fb2-40e8-8cc5-94ab77e6c304",
   "metadata": {},
   "source": [
    "## Author\n",
    "Jangiti Naveen"
   ]
  }
 ],
 "metadata": {
  "kernelspec": {
   "display_name": "Python",
   "language": "python",
   "name": "conda-env-python-py"
  },
  "language_info": {
   "codemirror_mode": {
    "name": "ipython",
    "version": 3
   },
   "file_extension": ".py",
   "mimetype": "text/x-python",
   "name": "python",
   "nbconvert_exporter": "python",
   "pygments_lexer": "ipython3",
   "version": "3.7.12"
  }
 },
 "nbformat": 4,
 "nbformat_minor": 5
}
